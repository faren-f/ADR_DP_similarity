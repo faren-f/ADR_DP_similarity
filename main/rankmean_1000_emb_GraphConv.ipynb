{
 "cells": [
  {
   "cell_type": "code",
   "execution_count": 1,
   "id": "aca647f2-e002-480a-9fb6-2506eeff36b6",
   "metadata": {},
   "outputs": [],
   "source": [
    "import subprocess\n",
    "import os\n",
    "\n",
    "import pandas as pd\n",
    "import numpy as np\n",
    "import torch\n",
    "from tqdm import tqdm\n",
    "from collections import Counter"
   ]
  },
  {
   "cell_type": "code",
   "execution_count": null,
   "id": "0b280c87-5ed7-48a9-b137-ec3a3fdf0f70",
   "metadata": {},
   "outputs": [],
   "source": [
    "print(os.environ.get('CONDA_DEFAULT_ENV'))\n",
    "nvidia_smi_output = subprocess.check_output(['nvidia-smi']).decode('utf-8')\n",
    "print(nvidia_smi_output)\n",
    "torch.cuda.is_available()"
   ]
  },
  {
   "cell_type": "code",
   "execution_count": 3,
   "id": "3b517fa7-9060-4210-b34a-8234eb96f8f7",
   "metadata": {},
   "outputs": [],
   "source": [
    "data_dir = '../data/'\n",
    "emb_dir = os.path.join(data_dir, 'embedding/emb_GraphConv')\n",
    "\n",
    "n_file = int(len(os.listdir(emb_dir)))\n",
    "\n",
    "device = torch.device('cuda:0')"
   ]
  },
  {
   "cell_type": "code",
   "execution_count": 5,
   "id": "1300e42c-07a5-47e7-878a-f7a9e60c80eb",
   "metadata": {},
   "outputs": [],
   "source": [
    "def cosine_sim(emb1, emb2, device):\n",
    "\n",
    "    # emb1: a dataframe (n1 x m)\n",
    "    # emb2: a dataframe (n2 x m)\n",
    "\n",
    "    tensor1 = torch.tensor(emb1.values).to(device)\n",
    "    tensor2 = torch.tensor(emb2.values).to(device)\n",
    "\n",
    "    norm1 = tensor1.norm(p=2, dim=1, keepdim=True)        \n",
    "    norm1 = tensor1 / norm1.clamp(min=1e-6)\n",
    "\n",
    "    norm2 = tensor2.norm(p=2, dim=1, keepdim=True)\n",
    "    norm2 = tensor2 / norm2.clamp(min=1e-6)\n",
    "    cosine_sim = torch.mm(norm1, norm2.T)\n",
    "    \n",
    "    return cosine_sim\n"
   ]
  },
  {
   "cell_type": "code",
   "execution_count": 6,
   "id": "4c05f6da-99b4-4ee1-9b46-19d41bdadbb5",
   "metadata": {},
   "outputs": [],
   "source": [
    "conv_table = pd.read_csv(os.path.join(data_dir, \"conversionTable.csv\"))\n",
    "\n",
    "conv_adr = conv_table[conv_table['Names'].str.contains('meddra.')]\n",
    "conv_dp = conv_table[conv_table['Names'].str.contains('hpo.')]\n",
    "conv_gene = conv_table[conv_table['Names'].str.contains('entrez.')]"
   ]
  },
  {
   "cell_type": "code",
   "execution_count": 7,
   "id": "402e10b4-379e-4f8b-a219-a7de85d61002",
   "metadata": {},
   "outputs": [],
   "source": [
    "universal_index_adr = conv_adr['Nodes'].sort_values().to_list()\n",
    "universal_index_gene = conv_gene['Nodes'].sort_values().to_list()\n",
    "universal_index_dp = conv_dp['Nodes'].sort_values().to_list()"
   ]
  },
  {
   "cell_type": "code",
   "execution_count": null,
   "id": "ec47e412-1ffd-4a9b-905d-02b2f0125ca8",
   "metadata": {},
   "outputs": [],
   "source": [
    "rank_sum_adr_gene = torch.zeros([conv_adr.shape[0], conv_gene.shape[0]]).to(device)\n",
    "rank_sum_dp_gene = torch.zeros([conv_dp.shape[0], conv_gene.shape[0]]).to(device)\n",
    "rank_sum_adr_dp = torch.zeros([conv_adr.shape[0], conv_dp.shape[0]]).to(device)\n",
    "rank_sum_adr_adr = torch.zeros([conv_adr.shape[0], conv_adr.shape[0]]).to(device)\n",
    "rank_sum_dp_dp = torch.zeros([conv_dp.shape[0], conv_dp.shape[0]]).to(device)\n",
    "\n",
    "index_adr_gene = torch.zeros([conv_adr.shape[0], conv_gene.shape[0]]).to(device)\n",
    "index_dp_gene = torch.zeros([conv_dp.shape[0], conv_gene.shape[0]]).to(device)\n",
    "index_adr_dp = torch.zeros([conv_adr.shape[0], conv_dp.shape[0]]).to(device)\n",
    "index_adr_adr = torch.zeros([conv_adr.shape[0], conv_adr.shape[0]]).to(device)\n",
    "index_dp_dp = torch.zeros([conv_dp.shape[0], conv_dp.shape[0]]).to(device)\n",
    "\n",
    "for i in tqdm(range(n_file)):\n",
    "\n",
    "    df = pd.read_csv(os.path.join(emb_dir, str(i+1)+'.csv'), header = None)\n",
    "\n",
    "    # seperating adrs, dps and genes\n",
    "    embedding_adr = df.loc[df.index.isin(conv_adr['Nodes'])]\n",
    "    embedding_dp = df.loc[df.index.isin(conv_dp['Nodes'])]\n",
    "    embedding_gene = df.loc[df.index.isin(conv_gene['Nodes'])]\n",
    "\n",
    "    embedding_adr_aligned = embedding_adr.reindex(index=universal_index_adr, fill_value=np.nan)\n",
    "    I_narows_adr = embedding_adr_aligned.isna().all(axis=1)\n",
    "    embedding_adr_aligned = embedding_adr_aligned.fillna(0)\n",
    "    \n",
    "    embedding_dp_aligned = embedding_dp.reindex(index=universal_index_dp, fill_value=np.nan)\n",
    "    I_narows_dp = embedding_dp_aligned.isna().all(axis=1)\n",
    "    embedding_dp_aligned = embedding_dp_aligned.fillna(0)\n",
    "\n",
    "    embedding_gene_aligned = embedding_gene.reindex(index=universal_index_gene, fill_value=np.nan)\n",
    "    I_narows_gene = embedding_gene_aligned.isna().all(axis=1)\n",
    "    embedding_gene_aligned = embedding_gene_aligned.fillna(0)\n",
    "\n",
    "    # Compute cosine similarity\n",
    "    adr_gene = cosine_sim(embedding_adr_aligned, embedding_gene_aligned, device = device)\n",
    "    dp_gene = cosine_sim(embedding_dp_aligned, embedding_gene_aligned, device = device)\n",
    "    adr_dp = cosine_sim(embedding_adr_aligned, embedding_dp_aligned, device = device)\n",
    "\n",
    "    # rank\n",
    "    rank_adr_gene = (-adr_gene).argsort(axis=1).argsort(axis=1) + 1\n",
    "    rank_dp_gene = (-dp_gene).argsort(axis=1).argsort(axis=1) + 1\n",
    "    rank_adr_dp = ((-adr_dp).flatten().argsort().argsort() + 1).reshape(adr_dp.shape)\n",
    "\n",
    "    ##\n",
    "    ind_adr_gene = torch.ones_like(rank_adr_gene)\n",
    "    ind_dp_gene = torch.ones_like(rank_dp_gene)\n",
    "    ind_adr_dp = torch.ones_like(rank_adr_dp)\n",
    "\n",
    "    ind_adr_gene[list(I_narows_adr), :] = 0\n",
    "    ind_adr_gene[:, list(I_narows_gene)] = 0\n",
    "\n",
    "    # nan_rows_dp2 = [x - conv_dp.shape[0] for x in nan_rows_dp]\n",
    "    ind_dp_gene[list(I_narows_dp), :] = 0\n",
    "    ind_dp_gene[:, list(I_narows_gene)] = 0\n",
    "\n",
    "    ind_adr_dp[list(I_narows_adr), :] = 0\n",
    "    ind_adr_dp[:, list(I_narows_dp)] = 0\n",
    "\n",
    "    rank_adr_gene = rank_adr_gene * ind_adr_gene\n",
    "    rank_dp_gene = rank_dp_gene * ind_dp_gene\n",
    "    rank_adr_dp = rank_adr_dp * ind_adr_dp\n",
    "\n",
    "    ## rank Sum\n",
    "    rank_sum_adr_gene = rank_sum_adr_gene + rank_adr_gene\n",
    "    rank_sum_dp_gene = rank_sum_dp_gene + rank_dp_gene\n",
    "    rank_sum_adr_dp = rank_sum_adr_dp + rank_adr_dp\n",
    "\n",
    "    index_adr_gene = index_adr_gene + ind_adr_gene\n",
    "    index_dp_gene = index_dp_gene + ind_dp_gene\n",
    "    index_adr_dp = index_adr_dp + ind_adr_dp\n"
   ]
  },
  {
   "cell_type": "code",
   "execution_count": 10,
   "id": "c5669e7e-ec10-4557-b32c-3e9b536f3135",
   "metadata": {},
   "outputs": [],
   "source": [
    "rank_mean_adr_gene = rank_sum_adr_gene / index_adr_gene.clamp(min=1e-6)\n",
    "rank_mean_dp_gene = rank_sum_dp_gene / index_dp_gene.clamp(min=1e-6)\n",
    "rank_mean_adr_dp = rank_sum_adr_dp / index_adr_dp.clamp(min=1e-6)"
   ]
  },
  {
   "cell_type": "code",
   "execution_count": 11,
   "id": "a8a14b40-3888-47eb-8e65-173b493a002d",
   "metadata": {},
   "outputs": [],
   "source": [
    "rank_mean_adr_gene_df = rank_mean_adr_gene.cpu().numpy()\n",
    "rank_mean_adr_gene_df = pd.DataFrame(rank_mean_adr_gene_df, \n",
    "                          index=embedding_adr_aligned.index, \n",
    "                          columns=embedding_gene_aligned.index)\n",
    "\n",
    "rank_mean_dp_gene_df = rank_mean_dp_gene.cpu().numpy()\n",
    "rank_mean_dp_gene_df = pd.DataFrame(rank_mean_dp_gene_df, \n",
    "                          index=embedding_dp_aligned.index, \n",
    "                          columns=embedding_gene_aligned.index)\n",
    "\n",
    "rank_mean_adr_dp_df = rank_mean_adr_dp.cpu().numpy()\n",
    "rank_mean_adr_dp_df = pd.DataFrame(rank_mean_adr_dp_df, \n",
    "                          index=embedding_adr_aligned.index, \n",
    "                          columns=embedding_dp_aligned.index)"
   ]
  },
  {
   "cell_type": "code",
   "execution_count": 12,
   "id": "2d489e43-ed7f-4aa4-bc54-2a35ee9994c8",
   "metadata": {},
   "outputs": [],
   "source": [
    "index_mapping_adr = conv_adr.set_index('Nodes')['Symbole'].to_dict()\n",
    "index_mapping_dp = conv_dp.set_index('Nodes')['Symbole'].to_dict()\n",
    "index_mapping_gene = conv_gene.set_index('Nodes')['Symbole'].to_dict()"
   ]
  },
  {
   "cell_type": "code",
   "execution_count": 13,
   "id": "ee68092b-3627-49a6-8d76-5b35a5bfdb75",
   "metadata": {},
   "outputs": [],
   "source": [
    "rank_mean_adr_gene_df.index = rank_mean_adr_gene_df.index.map(index_mapping_adr)\n",
    "rank_mean_dp_gene_df.index = rank_mean_dp_gene_df.index.map(index_mapping_dp)\n",
    "rank_mean_adr_dp_df.index = rank_mean_adr_dp_df.index.map(index_mapping_adr)\n",
    "\n",
    "rank_mean_adr_gene_df = rank_mean_adr_gene_df.rename(columns=index_mapping_gene)\n",
    "rank_mean_dp_gene_df = rank_mean_dp_gene_df.rename(columns=index_mapping_gene)\n",
    "rank_mean_adr_dp_df = rank_mean_adr_dp_df.rename(columns=index_mapping_dp)"
   ]
  },
  {
   "cell_type": "code",
   "execution_count": 14,
   "id": "a6420d38-d3aa-4064-90f4-70e76788c7af",
   "metadata": {},
   "outputs": [],
   "source": [
    "rank_mean_adr_gene_df.to_csv(os.path.join(result_dir, 'adr_gene.csv'))\n",
    "rank_mean_dp_gene_df.to_csv(os.path.join(result_dir, 'dp_gene.csv'))\n",
    "rank_mean_adr_dp_df.to_csv(os.path.join(result_dir, 'adr_dp.csv'))"
   ]
  }
 ],
 "metadata": {
  "kernelspec": {
   "display_name": "Python 3 (ipykernel)",
   "language": "python",
   "name": "python3"
  },
  "language_info": {
   "codemirror_mode": {
    "name": "ipython",
    "version": 3
   },
   "file_extension": ".py",
   "mimetype": "text/x-python",
   "name": "python",
   "nbconvert_exporter": "python",
   "pygments_lexer": "ipython3",
   "version": "3.11.10"
  }
 },
 "nbformat": 4,
 "nbformat_minor": 5
}
