{
 "cells": [
  {
   "cell_type": "code",
   "execution_count": null,
   "id": "ac556097-e0b3-46bc-98bb-fb897643be66",
   "metadata": {},
   "outputs": [],
   "source": [
    "import os\n",
    "import pandas as pd \n",
    "import numpy as np\n",
    "import torch\n",
    "import subprocess\n",
    "import torch.nn.functional as F\n",
    "from tqdm import tqdm\n",
    "nvidia_smi_output = subprocess.check_output(['nvidia-smi']).decode('utf-8')\n",
    "print(nvidia_smi_output)\n"
   ]
  },
  {
   "cell_type": "code",
   "execution_count": 4,
   "id": "be07bd79-3c81-4be6-8603-3fb8b3d51450",
   "metadata": {},
   "outputs": [],
   "source": [
    "data_dir = '../data/'\n",
    "emb_dir = os.path.join(data_dir, 'embedding/emb_RGCN')\n",
    "\n",
    "n_file = int(len(os.listdir(emb_dir))/5)\n",
    "\n",
    "device = torch.device('cuda:0')"
   ]
  },
  {
   "cell_type": "code",
   "execution_count": 6,
   "id": "36a1f029-0fc4-4cac-8fb5-24492a45c37a",
   "metadata": {},
   "outputs": [],
   "source": [
    "adr_node = pd.read_csv(os.path.join(data_dir, 'adr_node.csv'), sep= ',')\n",
    "dp_node = pd.read_csv(os.path.join(data_dir, 'dp_node.csv'), sep= ',')\n",
    "gene_node = pd.read_csv(os.path.join(data_dir, 'gene_node.csv'), sep= ',')\n",
    "disease_symptom = pd.read_csv(os.path.join(data_dir,'disease_symptom.csv'), sep= ',')\n"
   ]
  },
  {
   "cell_type": "code",
   "execution_count": 7,
   "id": "e366c8b2-5e0e-4e6a-b5cf-7a9d7ae8b0a8",
   "metadata": {},
   "outputs": [],
   "source": [
    "def cosine_sim(emb1, emb2, device):\n",
    "\n",
    "    # emb1: a dataframe (n1 x m)\n",
    "    # emb2: a dataframe (n2 x m)\n",
    "\n",
    "    tensor1 = torch.tensor(emb1.values).to(device)\n",
    "    tensor2 = torch.tensor(emb2.values).to(device)\n",
    "\n",
    "    norm1 = tensor1.norm(p=2, dim=1, keepdim=True)       \n",
    "    norm1 = tensor1 / norm1.clamp(min=1e-6)\n",
    "\n",
    "    norm2 = tensor2.norm(p=2, dim=1, keepdim=True)\n",
    "    norm2 = tensor2 / norm2.clamp(min=1e-6)\n",
    "\n",
    "    cosine_sim = torch.mm(norm1, norm2.T)\n",
    "    \n",
    "    return cosine_sim"
   ]
  },
  {
   "cell_type": "code",
   "execution_count": null,
   "id": "fd747051-a8b4-473b-b754-85b1d8a54187",
   "metadata": {},
   "outputs": [],
   "source": [
    "rank_sum_adr_gene = torch.zeros([adr_node.shape[0], gene_node.shape[0]]).to(device)\n",
    "rank_sum_dp_gene = torch.zeros([dp_node.shape[0], gene_node.shape[0]]).to(device)\n",
    "\n",
    "for i in tqdm(range(n_file)):\n",
    "\n",
    "    # Read embeding for repeat i\n",
    "    embedding_adr = pd.read_csv(os.path.join(emb_dir, 'emb_adr' + '_rep'+str(i+1)+'.csv'), header = None) \n",
    "    embedding_gene = pd.read_csv(os.path.join(emb_dir, 'emb_gene' + '_rep'+str(i+1)+'.csv'), header = None)\n",
    "    embedding_dp = pd.read_csv(os.path.join(emb_dir, 'emb_dp' + '_rep'+str(i+1)+'.csv'), header = None)\n",
    "\n",
    "\n",
    "    embedding_adr.index = adr_node.iloc[:, 0]\n",
    "    embedding_dp.index = dp_node.iloc[:, 0]\n",
    "    embedding_gene.index = gene_node.iloc[:, 0]\n",
    "    \n",
    "    # Compute cosine similarity\n",
    "    adr_gene = cosine_sim(embedding_adr, embedding_gene, device = device)\n",
    "    dp_gene = cosine_sim(embedding_dp, embedding_gene, device = device)\n",
    "    adr_dp = cosine_sim(embedding_adr, embedding_dp, device = device)\n",
    "\n",
    "    # rank\n",
    "    rank_adr_gene = (-adr_gene).argsort(axis=1).argsort(axis=1) + 1\n",
    "    rank_dp_gene = (-dp_gene).argsort(axis=1).argsort(axis=1) + 1\n",
    "\n",
    "    # rank Sum\n",
    "    rank_sum_adr_gene = rank_sum_adr_gene + rank_adr_gene\n",
    "    rank_sum_dp_gene = rank_sum_dp_gene + rank_dp_gene\n",
    "\n",
    "rank_mean_adr_gene = rank_sum_adr_gene / n_file \n",
    "rank_mean_dp_gene = rank_sum_dp_gene / n_file "
   ]
  },
  {
   "cell_type": "code",
   "execution_count": 17,
   "id": "51da3705-28b7-47cc-a8e3-6dd281ab4f13",
   "metadata": {},
   "outputs": [],
   "source": [
    "rank_mean_adr_gene_df = rank_mean_adr_gene.cpu().numpy()\n",
    "rank_mean_adr_gene_df = pd.DataFrame(rank_mean_adr_gene_df, \n",
    "                          index=embedding_adr.index, \n",
    "                          columns=embedding_gene.index)\n",
    "rank_mean_adr_gene_df.to_csv(os.path.join(result_dir, 'adr_gene.csv'), sep=',')"
   ]
  },
  {
   "cell_type": "code",
   "execution_count": 18,
   "id": "2022a195-7fb9-4394-9481-aea7dc3dd394",
   "metadata": {},
   "outputs": [],
   "source": [
    "rank_mean_dp_gene_df = rank_mean_dp_gene.cpu().numpy()\n",
    "rank_mean_dp_gene_df = pd.DataFrame(rank_mean_dp_gene_df, \n",
    "                          index=embedding_dp.index, \n",
    "                          columns=embedding_gene.index)\n",
    "rank_mean_dp_gene_df.to_csv(os.path.join(result_dir, 'dp_gene.csv'), sep=',')"
   ]
  },
  {
   "cell_type": "code",
   "execution_count": null,
   "id": "ac7517d4-6369-4de3-9f40-f0705a67c292",
   "metadata": {},
   "outputs": [],
   "source": [
    "rank_mean_adr_dp_df = rank_mean_adr_dp.cpu().numpy()\n",
    "rank_mean_adr_dp_df = pd.DataFrame(rank_mean_adr_dp_df, \n",
    "                          index=embedding_adr.index, \n",
    "                          columns=embedding_dp.index)\n",
    "rank_mean_adr_dp_df.to_csv(os.path.join(result_dir, 'adr_dp.csv'), sep=',')"
   ]
  },
  {
   "cell_type": "code",
   "execution_count": null,
   "id": "5f38f404-f5b6-44af-b807-da9fc6983366",
   "metadata": {},
   "outputs": [],
   "source": []
  }
 ],
 "metadata": {
  "kernelspec": {
   "display_name": "Python 3 (ipykernel)",
   "language": "python",
   "name": "python3"
  },
  "language_info": {
   "codemirror_mode": {
    "name": "ipython",
    "version": 3
   },
   "file_extension": ".py",
   "mimetype": "text/x-python",
   "name": "python",
   "nbconvert_exporter": "python",
   "pygments_lexer": "ipython3",
   "version": "3.11.10"
  }
 },
 "nbformat": 4,
 "nbformat_minor": 5
}
